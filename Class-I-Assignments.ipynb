{
 "cells": [
  {
   "cell_type": "code",
   "execution_count": 168,
   "id": "f8432425-f719-4ac8-b0a9-0380d5e613cb",
   "metadata": {},
   "outputs": [],
   "source": [
    "#create a class and function and list out the items in the list\n",
    "class subfieldsInAI():\n",
    "    def Subfields():\n",
    "        a=('Machine Learning','Neural Networks','Vision','Robotics','Speech Processing','Natural Language Processing')\n",
    "        print (\"Subfields in AI are:\")\n",
    "        for i in a:\n",
    "            print (i)"
   ]
  },
  {
   "cell_type": "code",
   "execution_count": 105,
   "id": "fea02db3-be41-41cf-b411-ade91b61a3fd",
   "metadata": {},
   "outputs": [
    {
     "name": "stdout",
     "output_type": "stream",
     "text": [
      "Subfields in AI are:\n",
      "Machine Learning\n",
      "Neural Networks\n",
      "Vision\n",
      "Robotics\n",
      "Speech Processing\n",
      "Natural Language Processing\n"
     ]
    }
   ],
   "source": [
    "subfieldsInAI.Subfields()"
   ]
  },
  {
   "cell_type": "code",
   "execution_count": 113,
   "id": "579c6d6a-1389-4e02-b468-d3969b072201",
   "metadata": {},
   "outputs": [],
   "source": [
    "#create a class and function that checks the given number is odd or even\n",
    "class OddEven():\n",
    "    def oddeven():\n",
    "        a=int(input(\"Enter a Number:\"))\n",
    "        if (a%2==0):\n",
    "          print(a,\"is Even Number\")\n",
    "        else:\n",
    "            print(a, \"is Odd Number\")"
   ]
  },
  {
   "cell_type": "code",
   "execution_count": 116,
   "id": "41d68e03-b25f-412b-8a26-d124e55000d1",
   "metadata": {},
   "outputs": [
    {
     "name": "stdin",
     "output_type": "stream",
     "text": [
      "Enter a Number: 52452\n"
     ]
    },
    {
     "name": "stdout",
     "output_type": "stream",
     "text": [
      "52452 is Even Number\n"
     ]
    }
   ],
   "source": [
    "OddEven.oddeven()"
   ]
  },
  {
   "cell_type": "code",
   "execution_count": 169,
   "id": "85a6eff2-0a26-435c-97e6-4c01b9910a01",
   "metadata": {},
   "outputs": [],
   "source": [
    "#create a class and function that tells eligibility of marriage for male and female according to their age limit like 21 for male and 18 for female\n",
    "class EligibilityforMarriage():\n",
    "    def Eligible():\n",
    "        a=input(\"Your Gender:\")\n",
    "        b=int(input(\"Your Age:\"))\n",
    "        if (a==\"Male\" or \"male\"):\n",
    "            if b>=21:\n",
    "                print(\"ELIGIBLE\")\n",
    "            else:\n",
    "                print(\"NOT ELIGIBLE\")\n",
    "        elif(a==\"Female\" or \"female\"):\n",
    "                        if b>=18:\n",
    "                            print(\"ELIGIBLE\")\n",
    "                        else:\n",
    "                            print(\"NOT ELIGIBLE\")      "
   ]
  },
  {
   "cell_type": "code",
   "execution_count": 171,
   "id": "780bbc8c-39b2-47a5-97dd-deb4869241f3",
   "metadata": {},
   "outputs": [
    {
     "name": "stdin",
     "output_type": "stream",
     "text": [
      "Your Gender: Male\n",
      "Your Age: 20\n"
     ]
    },
    {
     "name": "stdout",
     "output_type": "stream",
     "text": [
      "NOT ELIGIBLE\n"
     ]
    }
   ],
   "source": [
    "EligibilityforMarriage.Eligible()"
   ]
  },
  {
   "cell_type": "code",
   "execution_count": 162,
   "id": "472a41fc-c88c-4e97-831e-c05eb32f7710",
   "metadata": {},
   "outputs": [],
   "source": [
    "#calculate the percentage of your 10th mark\n",
    "class FindPercent():\n",
    "    def percentage():\n",
    "        s1=int(input(\"Subject1:\"))\n",
    "        s2=int(input(\"Subject2:\"))\n",
    "        s3=int(input(\"Subject3:\"))\n",
    "        s4=int(input(\"Subject4:\"))\n",
    "        s5=int(input(\"Subject5:\"))\n",
    "        T=s1+s2+s3+s4+s5\n",
    "        P=T/5\n",
    "        print(\"Total :\",T)\n",
    "        print(\"Percentage :\",P)"
   ]
  },
  {
   "cell_type": "code",
   "execution_count": 163,
   "id": "7644ce38-e560-4401-ab2f-dcb1988dec5e",
   "metadata": {},
   "outputs": [
    {
     "name": "stdin",
     "output_type": "stream",
     "text": [
      "Subject1: 98\n",
      "Subject2: 87\n",
      "Subject3: 95\n",
      "Subject4: 95\n",
      "Subject5: 93\n"
     ]
    },
    {
     "name": "stdout",
     "output_type": "stream",
     "text": [
      "Total : 468\n",
      "Percentage : 93.6\n"
     ]
    }
   ],
   "source": [
    "FindPercent.percentage()"
   ]
  },
  {
   "cell_type": "code",
   "execution_count": 166,
   "id": "506cfbe3-e6b9-480e-b47c-f30433a91c7c",
   "metadata": {},
   "outputs": [],
   "source": [
    "#print area and perimeter of Triangle using class and functions\n",
    "class traingle():\n",
    "    def Triangle():\n",
    "        H=int(input(\"Height :\"))\n",
    "        B=int(input(\"Breadth :\"))\n",
    "        print(\"Area Formula: (Height*Breadth)/2\")\n",
    "        print(\"Area of Triangle :\",(H*B)/2)\n",
    "        H1=int(input(\"Height1 :\"))\n",
    "        H2=int(input(\"Height2 :\"))\n",
    "        B=int(input(\"Breadth :\"))\n",
    "        P=H1+H2+B\n",
    "        print(\"Perimeter Formula: Height1+Height2+Breadth\")\n",
    "        print(\"Perimeter of Triangle:\",P)      "
   ]
  },
  {
   "cell_type": "code",
   "execution_count": 167,
   "id": "d857fd0e-f07a-4d6a-988e-1adcddd65adb",
   "metadata": {},
   "outputs": [
    {
     "name": "stdin",
     "output_type": "stream",
     "text": [
      "Height : 32\n",
      "Breadth : 34\n"
     ]
    },
    {
     "name": "stdout",
     "output_type": "stream",
     "text": [
      "Area Formula: (Height*Breadth)/2\n",
      "Area of Triangle : 544.0\n"
     ]
    },
    {
     "name": "stdin",
     "output_type": "stream",
     "text": [
      "Height1 : 2\n",
      "Height2 : 4\n",
      "Breadth : 4\n"
     ]
    },
    {
     "name": "stdout",
     "output_type": "stream",
     "text": [
      "Perimeter Formula: Height1+Height2+Breadth\n",
      "Perimeter of Triangle: 10\n"
     ]
    }
   ],
   "source": [
    "traingle.Triangle()"
   ]
  }
 ],
 "metadata": {
  "kernelspec": {
   "display_name": "Python 3 (ipykernel)",
   "language": "python",
   "name": "python3"
  },
  "language_info": {
   "codemirror_mode": {
    "name": "ipython",
    "version": 3
   },
   "file_extension": ".py",
   "mimetype": "text/x-python",
   "name": "python",
   "nbconvert_exporter": "python",
   "pygments_lexer": "ipython3",
   "version": "3.12.7"
  }
 },
 "nbformat": 4,
 "nbformat_minor": 5
}
