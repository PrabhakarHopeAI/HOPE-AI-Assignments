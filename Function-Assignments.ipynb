{
 "cells": [
  {
   "cell_type": "code",
   "execution_count": 4,
   "id": "5eb3705e-adeb-4219-92f3-a3ac387fb592",
   "metadata": {},
   "outputs": [],
   "source": [
    "#create function for AI Sub-Fields\n",
    "def Subfields():\n",
    "    a=(\"Machine Learning\",\"Neural Networks\",\"Vision,Robotics\",\"Speech Processing\",\"Natural Language Processing\")\n",
    "    print(\"Sub-fields in AI are:\")\n",
    "    for i in a:\n",
    "        print(i)\n",
    "    "
   ]
  },
  {
   "cell_type": "code",
   "execution_count": 5,
   "id": "d49613d5-20cb-4146-b3a6-640b37cf69d5",
   "metadata": {},
   "outputs": [
    {
     "name": "stdout",
     "output_type": "stream",
     "text": [
      "Sub-fields in AI are:\n",
      "Machine Learning\n",
      "Neural Networks\n",
      "Vision,Robotics\n",
      "Speech Processing\n",
      "Natural Language Processing\n"
     ]
    }
   ],
   "source": [
    "Subfields()"
   ]
  },
  {
   "cell_type": "code",
   "execution_count": 6,
   "id": "20f00836-4f08-4871-8f04-303f25781253",
   "metadata": {},
   "outputs": [],
   "source": [
    "#create function for odd or even\n",
    "def OddEven():\n",
    "    a=int(input(\"Enter a Number:\"))\n",
    "    if a%2==0:\n",
    "        print(a,\"is Even Number\")\n",
    "    else:\n",
    "        print(a,\"is Odd Number\")"
   ]
  },
  {
   "cell_type": "code",
   "execution_count": 7,
   "id": "4f78cd47-75ca-4cfa-a36b-669ac52ce058",
   "metadata": {},
   "outputs": [
    {
     "name": "stdin",
     "output_type": "stream",
     "text": [
      "Enter a Number: 4\n"
     ]
    },
    {
     "name": "stdout",
     "output_type": "stream",
     "text": [
      "4 is Even Number\n"
     ]
    }
   ],
   "source": [
    "OddEven()"
   ]
  },
  {
   "cell_type": "code",
   "execution_count": 51,
   "id": "3630f66f-d0b3-49ae-932d-eb4a4afff87e",
   "metadata": {},
   "outputs": [],
   "source": [
    "#create function for Gender Marriage Eligibility\n",
    "def Eligible():\n",
    "    a=input(\"Your Gender:\")\n",
    "    b=int(input(\"Your Age:\"))\n",
    "    if (a=='Male'):\n",
    "        if (b <22):\n",
    "            print(\"Eligible\")\n",
    "        else:\n",
    "            print(\"Not Eligible\")\n",
    "    elif (a=='Female'):\n",
    "        if (b <19):\n",
    "            print(\"Eligible\")\n",
    "        else:\n",
    "            print(\"Not Eligible\")"
   ]
  },
  {
   "cell_type": "code",
   "execution_count": 55,
   "id": "c9c37990-eff2-4440-ad29-680597f55362",
   "metadata": {},
   "outputs": [
    {
     "name": "stdin",
     "output_type": "stream",
     "text": [
      "Your Gender: Male\n",
      "Your Age: 18\n"
     ]
    },
    {
     "name": "stdout",
     "output_type": "stream",
     "text": [
      "Eligible\n"
     ]
    }
   ],
   "source": [
    "Eligible()"
   ]
  },
  {
   "cell_type": "code",
   "execution_count": 62,
   "id": "17dfb668-76cb-42a8-adeb-154acdd2370d",
   "metadata": {},
   "outputs": [],
   "source": [
    "#create function for percentage\n",
    "def percentage():\n",
    "    subject1=int(input(\"subject1:\"))\n",
    "    subject2=int(input(\"subject2:\"))\n",
    "    subject3=int(input(\"subject3:\"))\n",
    "    subject4=int(input(\"subject4:\"))\n",
    "    subject5=int(input(\"subject5:\"))\n",
    "    Total=subject1+subject2+subject3+subject4+subject5\n",
    "    print(\"Total=\",Total)\n",
    "    Percentage=(subject1+subject2+subject3+subject4+subject5)/5\n",
    "    print(\"Percentage=\",Percentage)    "
   ]
  },
  {
   "cell_type": "code",
   "execution_count": 63,
   "id": "3db19b8f-5852-4b1b-9e07-88317a6a2757",
   "metadata": {},
   "outputs": [
    {
     "name": "stdin",
     "output_type": "stream",
     "text": [
      "subject1: 23\n",
      "subject2: 45\n",
      "subject3: 34\n",
      "subject4: 23\n",
      "subject5: 23\n"
     ]
    },
    {
     "name": "stdout",
     "output_type": "stream",
     "text": [
      "Total= 148\n",
      "Percentage= 29.6\n"
     ]
    }
   ],
   "source": [
    "percentage()"
   ]
  },
  {
   "cell_type": "code",
   "execution_count": 75,
   "id": "fbb858eb-f455-4277-be43-90c950026617",
   "metadata": {},
   "outputs": [],
   "source": [
    "#create a function for triangle\n",
    "def triangle():\n",
    "    height=int(input(\"Height:\"))\n",
    "    breadth=int(input(\"Breadth:\"))\n",
    "    print(\"Area formula: (Height*Breadth)/2\")\n",
    "    c = height*breadth/2\n",
    "    print(\"Area of Triangle:\",c)\n",
    "    height1=int(input(\"Height1:\"))\n",
    "    height2=int(input(\"Height2:\"))\n",
    "    breadth=int(input(\"Breadth:\"))\n",
    "    print(\"Perimeter formula: Height1+Height2+Breadth\")\n",
    "    d = height1+height2+breadth\n",
    "    print(\"Perimeter of Triangle:\",d)               "
   ]
  },
  {
   "cell_type": "code",
   "execution_count": 76,
   "id": "2a6f6a00-b183-430d-a67a-4eec8d011ce8",
   "metadata": {},
   "outputs": [
    {
     "name": "stdin",
     "output_type": "stream",
     "text": [
      "Height: 3\n",
      "Breadth: 4\n"
     ]
    },
    {
     "name": "stdout",
     "output_type": "stream",
     "text": [
      "Area formula: (Height*Breadth)/2\n",
      "Area of Triangle: 6.0\n"
     ]
    },
    {
     "name": "stdin",
     "output_type": "stream",
     "text": [
      "Height1: 3\n",
      "Height2: 4\n",
      "Breadth: 45\n"
     ]
    },
    {
     "name": "stdout",
     "output_type": "stream",
     "text": [
      "Perimeter formula: Height1+Height2+Breadth\n",
      "Perimeter of Triangle: 52\n"
     ]
    }
   ],
   "source": [
    "triangle()"
   ]
  }
 ],
 "metadata": {
  "kernelspec": {
   "display_name": "Python 3 (ipykernel)",
   "language": "python",
   "name": "python3"
  },
  "language_info": {
   "codemirror_mode": {
    "name": "ipython",
    "version": 3
   },
   "file_extension": ".py",
   "mimetype": "text/x-python",
   "name": "python",
   "nbconvert_exporter": "python",
   "pygments_lexer": "ipython3",
   "version": "3.12.7"
  }
 },
 "nbformat": 4,
 "nbformat_minor": 5
}
