{
 "cells": [
  {
   "cell_type": "code",
   "execution_count": 54,
   "id": "40b53921-5706-462c-a21e-6bfbb180169a",
   "metadata": {},
   "outputs": [
    {
     "name": "stdin",
     "output_type": "stream",
     "text": [
      "Value: 10\n"
     ]
    },
    {
     "name": "stdout",
     "output_type": "stream",
     "text": [
      "Value: 10\n",
      "Correct\n"
     ]
    }
   ],
   "source": [
    "#print 'Correct' if i==10\n",
    "i=int(input(\"Value:\"))\n",
    "print(\"Value:\",i)\n",
    "if i==10:\n",
    "    print(\"Correct\")\n",
    "else:\n",
    "    print(\"Wrong\")\n"
   ]
  },
  {
   "cell_type": "code",
   "execution_count": 55,
   "id": "db0dc70d-9600-4631-9492-4dfbed4055b6",
   "metadata": {},
   "outputs": [
    {
     "name": "stdin",
     "output_type": "stream",
     "text": [
      "Enter the Password: Hope@123\n"
     ]
    },
    {
     "name": "stdout",
     "output_type": "stream",
     "text": [
      "Enter the Password: Hope@123\n",
      "The Password is Correct\n"
     ]
    }
   ],
   "source": [
    "# check the password using if and else\n",
    "a=input(\"Enter the Password:\")\n",
    "print(\"Enter the Password:\",a)\n",
    "if a=='Hope@123':\n",
    "    print(\"The Password is Correct\")"
   ]
  },
  {
   "cell_type": "code",
   "execution_count": 56,
   "id": "4820d673-d995-4eab-8b33-5b211d997d75",
   "metadata": {},
   "outputs": [
    {
     "name": "stdin",
     "output_type": "stream",
     "text": [
      "age= 20\n"
     ]
    },
    {
     "name": "stdout",
     "output_type": "stream",
     "text": [
      "age= 20\n",
      "Adult\n"
     ]
    }
   ],
   "source": [
    "# Category the peopele by their Age like Children, Adult, Citizen, Senior Citizen\n",
    "a=int(input(\"age=\"))\n",
    "print(\"age=\",a)\n",
    "if a<=5:\n",
    "    print(\"Children\")\n",
    "elif a<=10:\n",
    "    print(\"Boy\")\n",
    "elif a<=15:\n",
    "    print(\"Adolescent\")\n",
    "elif a<=20:\n",
    "    print(\"Adult\")\n",
    "elif a<=25:\n",
    "    print(\"Professional\")\n",
    "elif a<=30:\n",
    "    print(\"Married\")\n",
    "elif a<=59:\n",
    "    print(\"Citizen\")\n",
    "elif a<=79:\n",
    "    print(\"Senior Citizen\")\n",
    "else:\n",
    "    print(\"Super Senior Citizen\")\n",
    "      "
   ]
  },
  {
   "cell_type": "code",
   "execution_count": 57,
   "id": "d0dd4cf6-c251-464c-919c-84bfb9b73ffd",
   "metadata": {},
   "outputs": [
    {
     "name": "stdin",
     "output_type": "stream",
     "text": [
      "Enter any number: 1\n"
     ]
    },
    {
     "name": "stdout",
     "output_type": "stream",
     "text": [
      "Enter any number: 1\n",
      "No is Positive\n"
     ]
    }
   ],
   "source": [
    "#find whether the number is positive or negative\n",
    "a=int(input(\"Enter any number:\"))\n",
    "print(\"Enter any number:\",a)\n",
    "if a>=0:\n",
    "    print(\"No is Positive\")\n",
    "else:\n",
    "    print(\"No is Negative\")"
   ]
  },
  {
   "cell_type": "code",
   "execution_count": 59,
   "id": "775134e5-4a20-4348-88eb-285258023385",
   "metadata": {},
   "outputs": [
    {
     "name": "stdin",
     "output_type": "stream",
     "text": [
      "Enter a number to check: 22\n"
     ]
    },
    {
     "name": "stdout",
     "output_type": "stream",
     "text": [
      "Enter a number to check: 22\n",
      "No is not divisible by 5\n"
     ]
    }
   ],
   "source": [
    "#check whether the given number is divisible by 5\n",
    "a=int(input(\"Enter a number to check:\"))\n",
    "print(\"Enter a number to check:\",a)\n",
    "if a%5==0:\n",
    "    print(\"No is divisible by 5\")\n",
    "else:\n",
    "    print(\"No is not divisible by 5\")"
   ]
  },
  {
   "cell_type": "code",
   "execution_count": null,
   "id": "70d28f3b-9043-4418-a5b1-48f67a448a01",
   "metadata": {},
   "outputs": [],
   "source": []
  }
 ],
 "metadata": {
  "kernelspec": {
   "display_name": "Python 3 (ipykernel)",
   "language": "python",
   "name": "python3"
  },
  "language_info": {
   "codemirror_mode": {
    "name": "ipython",
    "version": 3
   },
   "file_extension": ".py",
   "mimetype": "text/x-python",
   "name": "python",
   "nbconvert_exporter": "python",
   "pygments_lexer": "ipython3",
   "version": "3.12.7"
  }
 },
 "nbformat": 4,
 "nbformat_minor": 5
}
